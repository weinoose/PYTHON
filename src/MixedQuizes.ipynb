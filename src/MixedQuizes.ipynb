{
  "cells": [
    {
      "cell_type": "markdown",
      "metadata": {
        "id": "SAWMwU0tIEQD"
      },
      "source": [
        "### Create a Dictionary with the information you get from the user and print this information on the screen. "
      ]
    },
    {
      "cell_type": "code",
      "execution_count": 1,
      "metadata": {
        "colab": {
          "base_uri": "https://localhost:8080/"
        },
        "id": "lO-VZQM5IGm3",
        "outputId": "b9d8ce65-22a5-46c8-d1ef-83379e1311f9"
      },
      "outputs": [
        {
          "name": "stdout",
          "output_type": "stream",
          "text": [
            "{'Name': 'Emir', 'Age': 20, 'Favourite Colour': 'Black'}\n"
          ]
        }
      ],
      "source": [
        "x = str(input(\"Insert your name here: \"))\n",
        "y = int(input(\"Insert your age here: \"))\n",
        "z = str(input(\"Insert your favourite colour here: \"))\n",
        "person = {}\n",
        "person[\"Name\"] = x\n",
        "person[\"Age\"] = y\n",
        "person[\"Favourite Colour\"] = z\n",
        "print(person)"
      ]
    },
    {
      "cell_type": "markdown",
      "metadata": {
        "id": "VLbzain-IHWy"
      },
      "source": [
        "### Order the 3 numbers you get from the user in ascending order."
      ]
    },
    {
      "cell_type": "code",
      "execution_count": 2,
      "metadata": {
        "colab": {
          "base_uri": "https://localhost:8080/"
        },
        "id": "h8e9a2ZXIJC6",
        "outputId": "4973f87f-40af-4e99-c267-e424f35ba5a4"
      },
      "outputs": [
        {
          "name": "stdout",
          "output_type": "stream",
          "text": [
            "17 > 12 > 10\n"
          ]
        }
      ],
      "source": [
        "liste = []\n",
        "n1, n2, n3 = input(\"Write the 3 numbers you want to be compared side by side with a space in between: \").split()\n",
        "n1, n2, n3 = int(n1), int(n2), int(n3)\n",
        "liste.extend([n1, n2, n3])\n",
        "x = max(liste)\n",
        "y = min(liste)\n",
        "liste.remove(max(liste))\n",
        "liste.remove(min(liste))\n",
        "print(f\"{x} > {liste[0]} > {y}\")"
      ]
    },
    {
      "cell_type": "markdown",
      "metadata": {
        "id": "MDo4xpqrIKAG"
      },
      "source": [
        "### Print a welcome message with the information you received from the user."
      ]
    },
    {
      "cell_type": "code",
      "execution_count": 3,
      "metadata": {
        "colab": {
          "base_uri": "https://localhost:8080/"
        },
        "id": "zAwsuOmlIK-k",
        "outputId": "e945843f-dc7d-429d-abd8-c762773b7c42"
      },
      "outputs": [
        {
          "name": "stdout",
          "output_type": "stream",
          "text": [
            "My name is Emir. I'm 20 years old. My favourite color is Black.\n"
          ]
        }
      ],
      "source": [
        "x = str(input(\"Insert your name here: \"))\n",
        "y = int(input(\"Insert your age here: \"))\n",
        "z = str(input(\"Insert your favourite colour here: \"))\n",
        "print(f\"My name is {x}. I'm {y} years old. My favourite color is {z}.\")"
      ]
    },
    {
      "cell_type": "markdown",
      "metadata": {
        "id": "QDkOxWuhIMoi"
      },
      "source": [
        "### Let's take a list with duplicates and print the deleted version of the duplicates."
      ]
    },
    {
      "cell_type": "code",
      "execution_count": 4,
      "metadata": {
        "colab": {
          "base_uri": "https://localhost:8080/"
        },
        "id": "A6st8pKoINcf",
        "outputId": "197b4c05-010d-4a83-d4b2-3c7a87966bcc"
      },
      "outputs": [
        {
          "name": "stdout",
          "output_type": "stream",
          "text": [
            "[0, 5, 6, 7, 8, 45, 13, 'e', 'w']\n"
          ]
        }
      ],
      "source": [
        "liste = [0, 5, 5, 6, 6, 6, 7, 8, 45, 13, \"e\", \"w\", \"w\"]\n",
        "liste = set(liste)\n",
        "liste = list(liste)\n",
        "print(liste)"
      ]
    },
    {
      "cell_type": "markdown",
      "metadata": {
        "id": "swQZgmibIOpd"
      },
      "source": [
        "### Create a list with the data you receive from the user, delete the end of the list."
      ]
    },
    {
      "cell_type": "code",
      "execution_count": 7,
      "metadata": {
        "colab": {
          "base_uri": "https://localhost:8080/"
        },
        "id": "BBr9M8NUIPjt",
        "outputId": "f1a837f1-6239-4d09-9121-e4c22097d024"
      },
      "outputs": [
        {
          "name": "stdout",
          "output_type": "stream",
          "text": [
            "Original list: ['9237', '3297', '373']\n",
            "New list: ['9237', '3297']\n"
          ]
        }
      ],
      "source": [
        "liste = []\n",
        "x, y, z = input(\"Enter data side by side with spaces between them: \").split()\n",
        "x, y, z = str(x), str(y), str(z)\n",
        "liste.extend([x,y,z])\n",
        "print(f\"Original list: {liste}\")\n",
        "liste.pop(len(liste)-1)\n",
        "print(f\"New list: {liste}\")"
      ]
    },
    {
      "cell_type": "markdown",
      "metadata": {
        "id": "RFH_piGdIQuH"
      },
      "source": [
        "### Convert the float data you received from the user to integer data and print it on the screen."
      ]
    },
    {
      "cell_type": "code",
      "execution_count": 8,
      "metadata": {
        "colab": {
          "base_uri": "https://localhost:8080/"
        },
        "id": "Ztrluf5iIRob",
        "outputId": "a1dcdec7-af5a-4c9d-c5f6-234724c4ce88"
      },
      "outputs": [
        {
          "name": "stdout",
          "output_type": "stream",
          "text": [
            "3\n"
          ]
        }
      ],
      "source": [
        "x = float(input(\"Enter a decimal number: \"))\n",
        "x = int(x)\n",
        "print(x)"
      ]
    },
    {
      "cell_type": "markdown",
      "metadata": {
        "id": "9kFIEEBRITbe"
      },
      "source": [
        "### Print the sent word specified times the function shown on the screen."
      ]
    },
    {
      "cell_type": "code",
      "execution_count": 10,
      "metadata": {
        "colab": {
          "base_uri": "https://localhost:8080/"
        },
        "id": "lZdLTLSnIV8V",
        "outputId": "9fe17881-1500-44aa-9478-1f90f504af65"
      },
      "outputs": [
        {
          "name": "stdout",
          "output_type": "stream",
          "text": [
            "Python\n",
            "Python\n",
            "Python\n",
            "Python\n",
            "Python\n",
            "\n"
          ]
        }
      ],
      "source": [
        "x = int(input(\"How many times should word to be printed?: \"))\n",
        "\n",
        "def func(word, count):\n",
        "    print(word*count)\n",
        "func(\"Python\\n\", x)"
      ]
    },
    {
      "cell_type": "markdown",
      "metadata": {
        "id": "N24rCiUpIqvu"
      },
      "source": [
        "### Convert the unlimited number of parameters sent to it into a list."
      ]
    },
    {
      "cell_type": "code",
      "execution_count": 11,
      "metadata": {
        "colab": {
          "base_uri": "https://localhost:8080/"
        },
        "id": "DFOXfibSI6LU",
        "outputId": "2f42ffdf-6684-4f93-ac2b-8a083fa1907c"
      },
      "outputs": [
        {
          "name": "stdout",
          "output_type": "stream",
          "text": [
            "[1, 5, 12, 'Python', True]\n"
          ]
        }
      ],
      "source": [
        "def func(*params):\n",
        "    liste = []\n",
        "    for i in params:\n",
        "        liste.append(i)\n",
        "    print(liste)\n",
        "func(1, 5, 12, \"Python\", True)"
      ]
    },
    {
      "cell_type": "markdown",
      "metadata": {
        "id": "OaxQMnNbI7Qw"
      },
      "source": [
        "### We will find the prime numbers between the 2 numbers sent."
      ]
    },
    {
      "cell_type": "code",
      "execution_count": 12,
      "metadata": {
        "colab": {
          "base_uri": "https://localhost:8080/"
        },
        "id": "iOakgW_KI9Kd",
        "outputId": "971496d3-4999-4883-d778-602010c94c05"
      },
      "outputs": [
        {
          "name": "stdout",
          "output_type": "stream",
          "text": [
            "2\n",
            "3\n",
            "5\n",
            "7\n",
            "11\n",
            "13\n",
            "17\n",
            "19\n",
            "23\n",
            "29\n",
            "31\n",
            "37\n",
            "41\n",
            "43\n",
            "47\n",
            "53\n",
            "59\n",
            "61\n",
            "67\n",
            "71\n",
            "73\n",
            "79\n",
            "83\n",
            "89\n",
            "97\n"
          ]
        }
      ],
      "source": [
        "def func(n1, n2):\n",
        "    for i in range(n1, n2):\n",
        "        if i > 1:\n",
        "            for j in range(2, i):\n",
        "                if (i%j==0):\n",
        "                    break\n",
        "            else:\n",
        "                print(i)\n",
        "func(0, 100)"
      ]
    },
    {
      "cell_type": "markdown",
      "metadata": {
        "id": "k3zwEtXmI-qX"
      },
      "source": [
        "### Print the divisors of the number sent to him as a list on the screen."
      ]
    },
    {
      "cell_type": "code",
      "execution_count": 13,
      "metadata": {
        "colab": {
          "base_uri": "https://localhost:8080/"
        },
        "id": "rG_DHqdMJAfP",
        "outputId": "b1b2f96a-7726-44b5-c357-e25c3fc46f89"
      },
      "outputs": [
        {
          "name": "stdout",
          "output_type": "stream",
          "text": [
            "[2, 3, 4, 5, 6, 8, 10, 12, 15, 20, 24, 30, 40, 60]\n"
          ]
        }
      ],
      "source": [
        "def func(num):\n",
        "    liste = []\n",
        "\n",
        "    for i in range(2, num):\n",
        "        if num%i==0:\n",
        "            liste.append(i)\n",
        "    return liste\n",
        "\n",
        "print(func(120))"
      ]
    },
    {
      "cell_type": "markdown",
      "metadata": {
        "id": "mDWUioz3JErZ"
      },
      "source": [
        "### Print a fitness message to an individual based on their body mass index."
      ]
    },
    {
      "cell_type": "code",
      "execution_count": 15,
      "metadata": {
        "colab": {
          "base_uri": "https://localhost:8080/"
        },
        "id": "81nPOnDqJF3z",
        "outputId": "b0b43879-6ee3-46a4-ff5d-b2904d5a2a8f"
      },
      "outputs": [
        {
          "name": "stdout",
          "output_type": "stream",
          "text": [
            "Normal. | BMI : 25.102391333069097\n"
          ]
        }
      ],
      "source": [
        "height = float(input(\"Insert your height as meter: \"))\n",
        "weight = int(input(\"Insert your weight a kilogram: \"))\n",
        "bmi = (weight)/(height**2)\n",
        "\n",
        "if 19.5 > bmi > 0:\n",
        "    print(\"Skinny. | BMI : {0}\".format(bmi))\n",
        "elif 25.5 > bmi >= 19.5:\n",
        "    print(\"Normal. | BMI : {0}\".format(bmi))\n",
        "elif 31.5 > bmi >= 25.5:\n",
        "    print(\"Overweight. | BMI : {0}\".format(bmi))\n",
        "elif 100 >= bmi >= 31.5:\n",
        "    print(\"Obese. | BMI : {0}\".format(bmi))\n",
        "else:\n",
        "    print(\"Mistyped, try again!\")"
      ]
    },
    {
      "cell_type": "markdown",
      "metadata": {
        "id": "Vx7IHH9FJQqy"
      },
      "source": [
        "### Print a driving license check statement, you need over 18 years old and 75+ from the exam."
      ]
    },
    {
      "cell_type": "code",
      "execution_count": 17,
      "metadata": {
        "colab": {
          "base_uri": "https://localhost:8080/"
        },
        "id": "gKIFhKPOJQ4_",
        "outputId": "b595cf25-461a-462d-d2bd-4dbe523c8014"
      },
      "outputs": [
        {
          "name": "stdout",
          "output_type": "stream",
          "text": [
            "You are eligible to attend exam.\n",
            "You are eligible to recieve drivers' licence.\n"
          ]
        }
      ],
      "source": [
        "age = int(input(\"Insert your age: \"))\n",
        "\n",
        "if age >= 18:\n",
        "    print(\"You are eligible to attend exam.\")\n",
        "    exam = int(input(\"Insert your score: \"))\n",
        "    if exam >= 75:\n",
        "        print(\"You are eligible to recieve drivers' licence.\")\n",
        "    else:\n",
        "        print(\"You are failed to pass the exam, try again.\")\n",
        "else:\n",
        "    print(\"You have to be 18 or older to be eligible.\")"
      ]
    },
    {
      "cell_type": "markdown",
      "metadata": {
        "id": "36r2i9vJJi9G"
      },
      "source": [
        "### Find multiples of 3 from the numbers in the list."
      ]
    },
    {
      "cell_type": "code",
      "execution_count": 18,
      "metadata": {
        "colab": {
          "base_uri": "https://localhost:8080/"
        },
        "id": "UPr3GvuUJlgO",
        "outputId": "ea906b3b-799d-4876-decd-bc8e78e62a48"
      },
      "outputs": [
        {
          "name": "stdout",
          "output_type": "stream",
          "text": [
            "3\n",
            "6\n",
            "9\n"
          ]
        }
      ],
      "source": [
        "liste = [0,1,2,3,4,5,6,7,8,9,10]\n",
        "\n",
        "for i in liste:\n",
        "    if (i%3==0) and (i != 0):\n",
        "        print(i)"
      ]
    },
    {
      "cell_type": "markdown",
      "metadata": {
        "id": "rRKps_GgJnz5"
      },
      "source": [
        "### Find the sum of the numbers in the list by looping."
      ]
    },
    {
      "cell_type": "code",
      "execution_count": 19,
      "metadata": {
        "colab": {
          "base_uri": "https://localhost:8080/"
        },
        "id": "oWxPujo9JrII",
        "outputId": "1bc157c4-3f3e-4fc4-94ea-f4dcf95216cc"
      },
      "outputs": [
        {
          "name": "stdout",
          "output_type": "stream",
          "text": [
            "55\n"
          ]
        }
      ],
      "source": [
        "total = 0\n",
        "\n",
        "for i in liste:\n",
        "    total = total + i\n",
        "print(total)"
      ]
    },
    {
      "cell_type": "markdown",
      "metadata": {
        "id": "2DDAWKE5JvMr"
      },
      "source": [
        "### Let's sort the numbers that we will receive from the user in a mixed way, from the largest to the smallest."
      ]
    },
    {
      "cell_type": "code",
      "execution_count": 16,
      "metadata": {
        "colab": {
          "base_uri": "https://localhost:8080/"
        },
        "id": "bdj2c5rZJyft",
        "outputId": "9f41dd61-6b83-46fb-9565-aa349d2f5244"
      },
      "outputs": [
        {
          "name": "stdout",
          "output_type": "stream",
          "text": [
            "[23, 23, 5, 4, 3]\n"
          ]
        }
      ],
      "source": [
        "liste = []\n",
        "\n",
        "for i in range(5):\n",
        "    i = int(input(\"Insert: \"))\n",
        "    liste.append(i)\n",
        "\n",
        "liste.sort()\n",
        "liste.reverse()\n",
        "print(liste)"
      ]
    }
  ],
  "metadata": {
    "colab": {
      "collapsed_sections": [],
      "name": "MixedQuizes.ipynb",
      "provenance": []
    },
    "kernelspec": {
      "display_name": "Python 3.9.7 64-bit",
      "language": "python",
      "name": "python3"
    },
    "language_info": {
      "codemirror_mode": {
        "name": "ipython",
        "version": 3
      },
      "file_extension": ".py",
      "mimetype": "text/x-python",
      "name": "python",
      "nbconvert_exporter": "python",
      "pygments_lexer": "ipython3",
      "version": "3.9.7"
    },
    "vscode": {
      "interpreter": {
        "hash": "8f939dc046ae95b61db57b1ddfb635e5199eac9f7bf30422bfd106b8f44dc254"
      }
    }
  },
  "nbformat": 4,
  "nbformat_minor": 0
}
