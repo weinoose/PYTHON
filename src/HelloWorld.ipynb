{
  "cells": [
    {
      "cell_type": "markdown",
      "metadata": {
        "id": "fWYQzl4btYpx"
      },
      "source": [
        "# Introduction to the Language\n",
        "##### Section 1"
      ]
    },
    {
      "cell_type": "markdown",
      "metadata": {
        "id": "LX6auorNtKdx"
      },
      "source": [
        "### Episode 1: Hello World\n",
        "Print allows the parameter sent into the function to be printed on the screen."
      ]
    },
    {
      "cell_type": "code",
      "execution_count": 2,
      "metadata": {
        "colab": {
          "base_uri": "https://localhost:8080/"
        },
        "id": "kXM0ZuPZtC-6",
        "outputId": "f8182131-606f-4f03-f1ff-dd2ca5a26c30"
      },
      "outputs": [
        {
          "name": "stdout",
          "output_type": "stream",
          "text": [
            "Hello, World!\n"
          ]
        }
      ],
      "source": [
        "print('Hello, World!')"
      ]
    },
    {
      "cell_type": "markdown",
      "metadata": {
        "id": "nEnaR0b6trwv"
      },
      "source": [
        "Also you can use print function with given variable. Also we declared example of comment rows."
      ]
    },
    {
      "cell_type": "code",
      "execution_count": 3,
      "metadata": {
        "colab": {
          "base_uri": "https://localhost:8080/"
        },
        "id": "VovG63J3twQo",
        "outputId": "a4131930-eaa3-432e-b053-133b6b714118"
      },
      "outputs": [
        {
          "name": "stdout",
          "output_type": "stream",
          "text": [
            "Emir\n"
          ]
        }
      ],
      "source": [
        "# Comment row No.1 Example.\n",
        "\n",
        "\"\"\"\n",
        "Comment row No.2 Example.\n",
        "\"\"\"\n",
        "\n",
        "var_name = 'Emir'\n",
        "print(var_name)"
      ]
    },
    {
      "cell_type": "markdown",
      "metadata": {
        "id": "_tUem6X1uLVl"
      },
      "source": [
        "### Episode 2: Variable Decleration and Data Types"
      ]
    },
    {
      "cell_type": "markdown",
      "metadata": {
        "id": "W76RPCwJuP3c"
      },
      "source": [
        "> Python has full of advantages, one of them is variable declerations. You have no limits or rules while declaring the variables.\n",
        "\n",
        "> Also we have 4 types of data types: as you see in code, in order integer, float, string, boolean.\n",
        "\n",
        "> Variable declaring rules: Must start with a lowercase letter, variables first letter should start with ASCII characters, also, first letter should not start with a number.\n",
        "\n",
        "> Also you can switch and convert variables as you see below."
      ]
    },
    {
      "cell_type": "code",
      "execution_count": 4,
      "metadata": {
        "colab": {
          "base_uri": "https://localhost:8080/"
        },
        "id": "PfSKajcvvyko",
        "outputId": "69e385eb-4b00-4100-b0cf-7a167ad2cf42"
      },
      "outputs": [
        {
          "name": "stdout",
          "output_type": "stream",
          "text": [
            "4 2.0 Hello, World! False\n",
            "2.0 4\n",
            "2 4.0\n"
          ]
        }
      ],
      "source": [
        "x = 4\n",
        "y = 2.0\n",
        "z = \"Hello, World!\"\n",
        "f = False\n",
        "\n",
        "print(x,y,z,f)\n",
        "\n",
        "x,y = y,x\n",
        "print(x,y)\n",
        "\n",
        "x = int(x)\n",
        "y = float(y)\n",
        "\n",
        "print(x,y)"
      ]
    },
    {
      "cell_type": "markdown",
      "metadata": {
        "id": "8xPYkvc_xn7U"
      },
      "source": [
        "> Also we can use builtin functions to access easily what we want. We are going to take a point on print, len, abs and input builtin functions."
      ]
    },
    {
      "cell_type": "code",
      "execution_count": 7,
      "metadata": {
        "colab": {
          "base_uri": "https://localhost:8080/"
        },
        "id": "P7mJndIQyILU",
        "outputId": "20d6d14c-898e-4ab5-9b7c-fe9e859fafac"
      },
      "outputs": [
        {
          "name": "stdout",
          "output_type": "stream",
          "text": [
            "Prints to the screen.\n",
            "10\n",
            "8\n",
            "Emir 20\n"
          ]
        }
      ],
      "source": [
        "print('Prints to the screen.')\n",
        "\n",
        "var_len = len('chararray.')\n",
        "print(var_len)\n",
        "\n",
        "var_abs = abs(1-9)\n",
        "print(var_abs)\n",
        "\n",
        "var_name = input('Insert your name here: ')\n",
        "var_age = int(input('Insert your age here: '))\n",
        "print(var_name,var_age)"
      ]
    },
    {
      "cell_type": "markdown",
      "metadata": {
        "id": "KGTYZkFCzARs"
      },
      "source": [
        "### Episode 3: String Formatting and String Manipulating"
      ]
    },
    {
      "cell_type": "markdown",
      "metadata": {
        "id": "oexWdXNozFcQ"
      },
      "source": [
        "> String manipulating and formatting codes will be shown below. There are four ways to format a text."
      ]
    },
    {
      "cell_type": "code",
      "execution_count": 8,
      "metadata": {
        "colab": {
          "base_uri": "https://localhost:8080/"
        },
        "id": "LCno1j3rzJWe",
        "outputId": "5bc992bc-b525-4764-fe31-bd4656a54026"
      },
      "outputs": [
        {
          "name": "stdout",
          "output_type": "stream",
          "text": [
            "My name is Emir and I am 20 years old.\n",
            "My name is Emir and I'm 20 years old.\n",
            "My name is Emir and I'm 20 years old.\n",
            "My name is Emir and I'm 20 years old.\n"
          ]
        }
      ],
      "source": [
        "name = 'Emir'\n",
        "age = 20\n",
        "\n",
        "text0 = 'My name is' + ' ' + name + ' ' + 'and I am' + ' ' + str(age) + ' ' + 'years old.'\n",
        "print(text0)\n",
        "\n",
        "text1 = \"My name is {} and I'm {} years old.\".format(name, age)\n",
        "print(text1)\n",
        "\n",
        "text2 = \"My name is {1} and I'm {0} years old.\".format(age, name)\n",
        "print(text2)\n",
        "\n",
        "text3 = f\"My name is {name} and I'm {age} years old.\"\n",
        "print(text3)"
      ]
    },
    {
      "cell_type": "markdown",
      "metadata": {
        "id": "FmG_PNmE1EWG"
      },
      "source": [
        "> text.upper(): Converts all characters to uppercase.\n",
        "\n",
        "> text.lower(): Converts all characters to lowercase.\n",
        "\n",
        "> text.capitalize(): Capitalizes only the first letter of the first word. If any of the other words in the sentence begin with a capital letter, it makes it smaller.\n",
        "\n",
        "> text.title(): Capitalize but affects every word, uppercase doesn't make lowercase.\n",
        "\n",
        "> text.strip(): Eliminates leading spaces in a string expression.\n",
        "\n",
        "> text.split(): Splits the string expression into words. \n",
        "\n",
        "> text.split(): It separates the string expression according to the parameter we give it.\n",
        "\n",
        "> text.replace(new, old)\n",
        "\n",
        "> text.replace(' ', ''): Removes all spaces from the string expression.\n",
        "\n",
        "> text.startswith(): A question is asked about how the text starts.\n",
        "\n",
        "> text.endswith(): A question is asked about what texting ends with."
      ]
    },
    {
      "cell_type": "code",
      "execution_count": 9,
      "metadata": {
        "colab": {
          "base_uri": "https://localhost:8080/"
        },
        "id": "92_ztZqo0kbQ",
        "outputId": "89f3c34d-db24-4a6a-9f1b-75e8fc970d91"
      },
      "outputs": [
        {
          "data": {
            "text/plain": [
              "False"
            ]
          },
          "execution_count": 9,
          "metadata": {},
          "output_type": "execute_result"
        }
      ],
      "source": [
        "text = 'Formula One is one of the greatest sports has invented.'\n",
        "\n",
        "result = text.upper()\n",
        "result = text.lower()\n",
        "result = text.capitalize() \n",
        "result = text.title()\n",
        "result = text.strip()\n",
        "result = text.split()\n",
        "result = text.split('s')\n",
        "result = text.replace('greatest', 'fascinating')\n",
        "result = text.replace(' ', '')\n",
        "result = text.startswith('p')\n",
        "result = text.endswith('m')\n",
        "\n",
        "result"
      ]
    },
    {
      "cell_type": "markdown",
      "metadata": {
        "id": "cLdGZccT2Qsn"
      },
      "source": [
        "### Episode 4: Lists, Tuples, Sets and Dictionaries"
      ]
    },
    {
      "cell_type": "markdown",
      "metadata": {
        "id": "X07c6w1a2Un2"
      },
      "source": [
        "Part of lists, and how we are going to declare them. Also how we are going to use them?"
      ]
    },
    {
      "cell_type": "code",
      "execution_count": 10,
      "metadata": {
        "colab": {
          "base_uri": "https://localhost:8080/"
        },
        "id": "jnCb1QYX2dXk",
        "outputId": "f9c9a54c-9e0c-499e-d1fc-283b8ea5d02e"
      },
      "outputs": [
        {
          "name": "stdout",
          "output_type": "stream",
          "text": [
            "AlphaTauri ['Ferrari', 'Red Bull', 'Mercedes'] ['Hass', 'Alpine', 'Alfa Romeo'] ['Aston Martin', 'McLaren', 'Williams']\n"
          ]
        }
      ],
      "source": [
        "element = 'AlphaTauri'\n",
        "list_0 = ['Ferrari','Red Bull','Mercedes']\n",
        "list_1 = ['Hass','Alpine','Alfa Romeo']\n",
        "list_2 = ['Aston Martin','McLaren','Williams']\n",
        "\n",
        "print(element,list_0,list_1,list_2)"
      ]
    },
    {
      "cell_type": "markdown",
      "metadata": {
        "id": "HehHzAO-21ID"
      },
      "source": [
        "Let's see the list methods like string methods.\n",
        "\n",
        "> append(): Adds an element to the end of the list.\n",
        "\n",
        "> insert(): Adds an element to specified position of the list.\n",
        "\n",
        "> pop(): It is given the index number of any element in the list.\n",
        "\n",
        "> remove(): Gives itself any element in the list.\n",
        "\n",
        "> reverse(): Inverts the list.\n",
        "\n",
        "> sort(): Sorts in ascending order."
      ]
    },
    {
      "cell_type": "code",
      "execution_count": 11,
      "metadata": {
        "colab": {
          "base_uri": "https://localhost:8080/"
        },
        "id": "91JKBwoS23SW",
        "outputId": "c5d1e000-f81a-41a0-c841-7ad6adb71ae8"
      },
      "outputs": [
        {
          "name": "stdout",
          "output_type": "stream",
          "text": [
            "Aston Martin's index number is: 0\n"
          ]
        }
      ],
      "source": [
        "list_0.append('Racing Point')\n",
        "list_1.insert(0, 'Red Bull Racing')\n",
        "list_1.pop(0)\n",
        "list_0.remove('Racing Point')\n",
        "list_2.reverse() \n",
        "list_2.sort()\n",
        "index_number = list_2.index('Aston Martin')\n",
        "\n",
        "print(f\"Aston Martin's index number is: {index_number}\")"
      ]
    },
    {
      "cell_type": "markdown",
      "metadata": {
        "id": "cQN26lSw3-5G"
      },
      "source": [
        "Let's see the tuple lists also."
      ]
    },
    {
      "cell_type": "code",
      "execution_count": 12,
      "metadata": {
        "colab": {
          "base_uri": "https://localhost:8080/"
        },
        "id": "unklBECR4A-A",
        "outputId": "07a0e8a3-022b-4a8b-ccc5-b5cc78cc7b13"
      },
      "outputs": [
        {
          "name": "stdout",
          "output_type": "stream",
          "text": [
            "0\n"
          ]
        }
      ],
      "source": [
        "tuple_1 = ('Toto','Christian','Zak')\n",
        "index = tuple_1.index('Toto')\n",
        "print(index)"
      ]
    },
    {
      "cell_type": "markdown",
      "metadata": {
        "id": "Nyc-R4j84JKj"
      },
      "source": [
        "Type conversions between tuple and list. Notice that you can turn tuple into a list but you cannot turn tuple into a list."
      ]
    },
    {
      "cell_type": "code",
      "execution_count": 13,
      "metadata": {
        "colab": {
          "base_uri": "https://localhost:8080/"
        },
        "id": "MM8XgG6I4ONa",
        "outputId": "1d14fee0-8bc4-4876-e93b-73571032846e"
      },
      "outputs": [
        {
          "name": "stdout",
          "output_type": "stream",
          "text": [
            "['Toto', 'Christian', 'Zak']\n"
          ]
        }
      ],
      "source": [
        "tuple_1 = list(tuple_1)\n",
        "print(tuple_1)"
      ]
    },
    {
      "cell_type": "markdown",
      "metadata": {
        "id": "QqCfSgxD5VTW"
      },
      "source": [
        "Also we need to notice set's, so what is sets? Basically sets are clusters."
      ]
    },
    {
      "cell_type": "code",
      "execution_count": 14,
      "metadata": {
        "colab": {
          "base_uri": "https://localhost:8080/"
        },
        "id": "9VbBpLSC5Ypo",
        "outputId": "5cec4e20-3df6-4016-f94c-4057be8e4231"
      },
      "outputs": [
        {
          "name": "stdout",
          "output_type": "stream",
          "text": [
            "{11, 5, 7}\n",
            "[1, 2, 3]\n"
          ]
        }
      ],
      "source": [
        "a = {1,3,5,7,9,11}\n",
        "b = {1,3,6,9,12}\n",
        "\n",
        "# Combination Set\n",
        "result = a | b\n",
        "# Intersection Set\n",
        "result = a & b \n",
        "# Difference Set\n",
        "result = a - b\n",
        "print(result)\n",
        "\n",
        "\"\"\"\n",
        "So we can remove duplicates from the list using set's,\n",
        "cause as you know set's not allows duplicate values in it.\n",
        "\"\"\"\n",
        "\n",
        "liste = [1, 2, 2, 3, 3, 3]\n",
        "liste = set(liste)\n",
        "liste = list(liste)\n",
        "print(liste)"
      ]
    },
    {
      "cell_type": "markdown",
      "metadata": {
        "id": "avmYSNuP5yYR"
      },
      "source": [
        "For the last part of the notebook, we shall see the dictionaries."
      ]
    },
    {
      "cell_type": "code",
      "execution_count": 15,
      "metadata": {
        "colab": {
          "base_uri": "https://localhost:8080/"
        },
        "id": "PSz9GXGl52Wi",
        "outputId": "301ba865-4849-4294-d0f6-d1acd5bd2fd8"
      },
      "outputs": [
        {
          "name": "stdout",
          "output_type": "stream",
          "text": [
            "{}\n",
            "Elon Musk\n"
          ]
        }
      ],
      "source": [
        "person_0 = {\n",
        "    \"Name\" : \"Emir Yarkın\",\n",
        "    \"Age\" : 18,\n",
        "    \"Title\" : \"Student\"\n",
        "}\n",
        "\n",
        "# Reaching the value using a specific key.\n",
        "result = person_0[\"Name\"]\n",
        "# We can also update a dictionary using this.\n",
        "person_0[\"Name\"] = \"Elon Musk\"\n",
        "# We can also delete a section of keys.\n",
        "del person_0[\"Age\"]\n",
        "# We may get all the values using this.\n",
        "result = person_0.values()\n",
        "# Ereases the whole dataset.\n",
        "person_0.clear()\n",
        "print(person_0)\n",
        "\n",
        "person_1 = {\n",
        "    1000 : {\n",
        "        \"Name\" : \"Jeff Bezos\",\n",
        "        \"Age\" : 57,\n",
        "        \"Title\" : \"Amazon.com Founder\"\n",
        "    },\n",
        "    1001 : {\n",
        "        \"Name\" : \"Elon Musk\",\n",
        "        \"Age\" : 49,\n",
        "        \"Title\" : \"SpaceX Founder\"\n",
        "    }\n",
        "}\n",
        "\n",
        "id= 1001\n",
        "# In this kind multidictionaries, you should reach the id first.\n",
        "result = person_1[id][\"Name\"]\n",
        "print(result)"
      ]
    }
  ],
  "metadata": {
    "colab": {
      "collapsed_sections": [],
      "name": "IntroductionToThePython.ipynb",
      "provenance": []
    },
    "kernelspec": {
      "display_name": "Python 3.9.7 64-bit",
      "language": "python",
      "name": "python3"
    },
    "language_info": {
      "codemirror_mode": {
        "name": "ipython",
        "version": 3
      },
      "file_extension": ".py",
      "mimetype": "text/x-python",
      "name": "python",
      "nbconvert_exporter": "python",
      "pygments_lexer": "ipython3",
      "version": "3.9.7 (tags/v3.9.7:1016ef3, Aug 30 2021, 20:19:38) [MSC v.1929 64 bit (AMD64)]"
    },
    "vscode": {
      "interpreter": {
        "hash": "8f939dc046ae95b61db57b1ddfb635e5199eac9f7bf30422bfd106b8f44dc254"
      }
    }
  },
  "nbformat": 4,
  "nbformat_minor": 0
}
